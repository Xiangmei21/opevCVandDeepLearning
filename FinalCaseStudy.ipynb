{
 "cells": [
  {
   "cell_type": "code",
   "execution_count": 20,
   "metadata": {},
   "outputs": [],
   "source": [
    "import cv2\n",
    "import pytesseract\n",
    "import numpy as np\n",
    "import re\n",
    "import csv\n",
    "import dlib\n",
    "import os"
   ]
  },
  {
   "cell_type": "code",
   "execution_count": 21,
   "metadata": {},
   "outputs": [],
   "source": [
    "pytesseract.pytesseract.tesseract_cmd=\"C:/Program Files/Tesseract-OCR/tesseract.exe\""
   ]
  },
  {
   "cell_type": "code",
   "execution_count": 23,
   "metadata": {},
   "outputs": [
    {
     "data": {
      "text/plain": [
       "-1"
      ]
     },
     "execution_count": 23,
     "metadata": {},
     "output_type": "execute_result"
    }
   ],
   "source": [
    "img=cv2.imread('C:/Users/venid/Desktop/DeepLearning/CaseStudy/FilledForm.jpg')\n",
    "frame = cv2.resize(img,(800,800))\n",
    "cv2.imshow(\"Original Image\", img)\n",
    "cv2.imshow(\"Resized Image\",frame)\n",
    "cv2.imwrite(\"ResizedForm.jpg\",frame)\n",
    "cv2.waitKey(0)"
   ]
  },
  {
   "cell_type": "code",
   "execution_count": 24,
   "metadata": {},
   "outputs": [
    {
     "data": {
      "text/plain": [
       "[[(715, 320), (1725, 630), 'text', 'Name'],\n",
       " [(715, 630), (1725, 930), 'text', 'Bank id'],\n",
       " [(715, 950), (1725, 1225), 'text', 'Branch'],\n",
       " [(715, 1275), (1725, 1488), 'text', 'Mobile']]"
      ]
     },
     "execution_count": 24,
     "metadata": {},
     "output_type": "execute_result"
    }
   ],
   "source": [
    "roi = [[(715, 320), (1725, 630), 'text', 'Name'], \n",
    "       [(715, 630), (1725, 930), 'text', 'Bank id'], \n",
    "       [(715, 950), (1725, 1225), 'text', 'Branch'], \n",
    "       [(715, 1275), (1725, 1488), 'text', 'Mobile']]\n",
    "roi"
   ]
  },
  {
   "cell_type": "code",
   "execution_count": 25,
   "metadata": {},
   "outputs": [
    {
     "name": "stdout",
     "output_type": "stream",
     "text": [
      "Veni devi\n",
      "\f",
      "\n",
      "1616093\n",
      "\f",
      "\n",
      "aXess Academy Chennai\n",
      "\f",
      "\n",
      "9003227782 7 ag\n",
      "\f",
      "\n"
     ]
    }
   ],
   "source": [
    "image = cv2.imread('C:/Users/venid/Desktop/DeepLearning/CaseStudy/FilledForm.jpg')\n",
    "imgShow = image.copy()\n",
    "h,w,c=imgShow.shape\n",
    "\n",
    "rows=[]\n",
    "for x, r in enumerate(roi):\n",
    "     \n",
    "    imgCrop=imgShow[r[0][1]:r[1][1],r[0][0]:r[1][0]]\n",
    "    cv2.imshow(str(x),imgCrop)\n",
    "    print(pytesseract.image_to_string(imgCrop))\n",
    "    x=pytesseract.image_to_string(imgCrop)\n",
    "    final = re.sub(r'\\W+', ' ', x)\n",
    "    rows.append(final)\n",
    "    cv2.waitKey(0)\n"
   ]
  },
  {
   "cell_type": "code",
   "execution_count": 26,
   "metadata": {},
   "outputs": [],
   "source": [
    "# opening the csv file in 'w' mode\n",
    "file = open('C:/Users/venid/Desktop/DeepLearning/CaseStudy/FormData.csv', 'w', newline ='')\n",
    "  \n",
    "with file:\n",
    "    # identifying header  \n",
    "    header = ['Name', 'Bank id', 'Branch', 'Mobile Number']\n",
    "    writer = csv.DictWriter(file, fieldnames = header)\n",
    "      \n",
    "    # writing data row-wise into the csv file\n",
    "    writer.writeheader()\n",
    "    writer.writerow({'Name' : rows[0], \n",
    "                     'Bank id': rows[1], \n",
    "                     'Branch': rows[2],\n",
    "                     'Mobile Number': rows[3]})\n"
   ]
  },
  {
   "cell_type": "code",
   "execution_count": null,
   "metadata": {},
   "outputs": [],
   "source": [
    "detector = dlib.get_frontal_face_detector()\n",
    "new_path = 'C:/Users/venid/Desktop/DeepLearning/CaseStudy/photos'"
   ]
  },
  {
   "cell_type": "code",
   "execution_count": null,
   "metadata": {},
   "outputs": [],
   "source": [
    "def save(img,name, bbox, width=180,height=227):\n",
    "    os.chdir(new_path)\n",
    "    x, y, w, h = bbox\n",
    "    imgCrop = img[y:h, x: w]\n",
    "    imgCrop = cv2.resize(imgCrop, (width, height))#we need this line to reshape the images\n",
    "    cv2.imwrite(name+\".jpg\", imgCrop)"
   ]
  },
  {
   "cell_type": "code",
   "execution_count": null,
   "metadata": {},
   "outputs": [],
   "source": [
    "def faces():\n",
    "    frame =cv2.imread('C:/Users/venid/Desktop/DeepLearning/CaseStudy/FilledForm.jpg')\n",
    "    gray =cv2.cvtColor(frame,cv2.COLOR_BGR2GRAY)\n",
    "    faces = detector(gray)\n",
    "    fit =20\n",
    "    # detect the face\n",
    "    for counter,face in enumerate(faces):\n",
    "        print(counter)\n",
    "        x1, y1 = face.left(), face.top()\n",
    "        x2, y2 = face.right(), face.bottom()\n",
    "        cv2.rectangle(frame,(x1,y1),(x2,y2),(220,255,220),1)\n",
    "        #MyRec(frame, x1, y1, x2 - x1, y2 - y1, 10, (0,250,0), 3)\n",
    "        # save(gray,new_path+str(counter),(x1-fit,y1-fit,x2+fit,y2+fit))\n",
    "        save(gray,rows[0],(x1,y1,x2,y2))\n",
    "    frame = cv2.resize(frame,(800,800))\n",
    "    cv2.imshow('img',frame)\n",
    "    cv2.waitKey(0)\n",
    "    print(\"Saved the image in photos folder!!!done saving\")\n",
    "faces()"
   ]
  }
 ],
 "metadata": {
  "kernelspec": {
   "display_name": "Python 3",
   "language": "python",
   "name": "python3"
  },
  "language_info": {
   "codemirror_mode": {
    "name": "ipython",
    "version": 3
   },
   "file_extension": ".py",
   "mimetype": "text/x-python",
   "name": "python",
   "nbconvert_exporter": "python",
   "pygments_lexer": "ipython3",
   "version": "3.8.5"
  }
 },
 "nbformat": 4,
 "nbformat_minor": 4
}
